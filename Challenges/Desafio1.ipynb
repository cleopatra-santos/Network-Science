{
 "cells": [
  {
   "metadata": {},
   "cell_type": "markdown",
   "source": "# Challenge 1\n",
   "id": "b113255b7ea886bd"
  },
  {
   "metadata": {},
   "cell_type": "markdown",
   "source": [
    "Given a network with 25 nodes, indexed from 1 to 25, where two nodes i and j are connected if the sum of their indices (i+j) is a perfect square, determine if there exists a Hamiltonian path and if so, how many such paths exist.\n",
    "\n",
    "In other words:\n",
    "- We have nodes numbered 1 through 25\n",
    "- Two nodes i and j have an edge between them if i+j is a perfect square (like 4, 9, 16, 25, 36, 49, etc.)\n",
    "- A Hamiltonian path visits each node exactly once\n",
    "- The question asks whether such a path exists in this graph, and if so, how many different Hamiltonian paths there are\n"
   ],
   "id": "ad18bd20249b6f8c"
  },
  {
   "metadata": {
    "ExecuteTime": {
     "end_time": "2025-03-12T17:35:55.941407Z",
     "start_time": "2025-03-12T17:35:55.880984Z"
    }
   },
   "cell_type": "code",
   "source": [
    "import networkx as nx\n",
    "import matplotlib.pyplot as plt\n",
    "\n",
    "def construir_grafo(arestas):\n",
    "    grafo = nx.Graph()\n",
    "    grafo.add_edges_from(arestas)\n",
    "    return grafo\n",
    "\n",
    "def desenhar_grafo(grafo):\n",
    "    plt.figure(figsize=(10, 8))\n",
    "    pos = nx.spring_layout(grafo)\n",
    "    nx.draw(grafo, pos, with_labels=True, node_color='lightblue', edge_color='gray', node_size=700, font_size=10)\n",
    "    plt.show()\n",
    "\n",
    "def contar_caminhos_hamiltonianos(grafo):\n",
    "    def dfs(v, visitados):\n",
    "        if len(visitados) == len(grafo):\n",
    "            return 1\n",
    "\n",
    "        caminhos = 0\n",
    "        for vizinho in grafo.neighbors(v):\n",
    "            if vizinho not in visitados:\n",
    "                caminhos += dfs(vizinho, visitados | {vizinho})\n",
    "        return caminhos\n",
    "\n",
    "    total_caminhos = 0\n",
    "    for no in grafo.nodes:\n",
    "        total_caminhos += dfs(no, {no})\n",
    "\n",
    "    return total_caminhos\n",
    "\n",
    "# Definição das arestas do grafo\n",
    "arestas = [\n",
    "    (1, 3), (1, 8), (1, 15), (1, 24),\n",
    "    (2, 7), (2, 14), (2, 23),\n",
    "    (3, 6), (3, 13), (3, 22),\n",
    "    (4, 5), (4, 12), (4, 21),\n",
    "    (5, 11), (5, 20),\n",
    "    (6, 10), (6, 19),\n",
    "    (7, 9), (7, 18),\n",
    "    (8, 17),\n",
    "    (9, 16),\n",
    "    (10, 15),\n",
    "    (11, 14), (11, 25),\n",
    "    (12, 13), (12, 24),\n",
    "    (13, 23),\n",
    "    (14, 22),\n",
    "    (15, 21),\n",
    "    (16, 20),\n",
    "    (17, 19),\n",
    "    (24, 25)\n",
    "]\n",
    "\n",
    "grafo = construir_grafo(arestas)\n",
    "\n",
    "caminhos_hamiltonianos = contar_caminhos_hamiltonianos(grafo)\n",
    "print(f\"Há {caminhos_hamiltonianos} caminhos hamiltonianos.\")\n",
    "\n",
    "\n",
    "#desenhar_grafo(grafo)"
   ],
   "id": "8c64c4ff08512d4d",
   "outputs": [
    {
     "name": "stdout",
     "output_type": "stream",
     "text": [
      "Há 20 caminhos hamiltonianos.\n"
     ]
    }
   ],
   "execution_count": 4
  }
 ],
 "metadata": {
  "kernelspec": {
   "display_name": "Python 3",
   "language": "python",
   "name": "python3"
  },
  "language_info": {
   "codemirror_mode": {
    "name": "ipython",
    "version": 2
   },
   "file_extension": ".py",
   "mimetype": "text/x-python",
   "name": "python",
   "nbconvert_exporter": "python",
   "pygments_lexer": "ipython2",
   "version": "2.7.6"
  }
 },
 "nbformat": 4,
 "nbformat_minor": 5
}
